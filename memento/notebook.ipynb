{
 "cells": [
  {
   "cell_type": "code",
   "execution_count": 7,
   "metadata": {},
   "outputs": [],
   "source": [
    "from pattern import TextEditor, VersionControl\n",
    "\n",
    "editor = TextEditor()\n",
    "vc = VersionControl()"
   ]
  },
  {
   "cell_type": "code",
   "execution_count": 8,
   "metadata": {},
   "outputs": [
    {
     "name": "stdout",
     "output_type": "stream",
     "text": [
      "First save: The quick \n"
     ]
    }
   ],
   "source": [
    "editor.set_text(\"The quick \")\n",
    "vc.push(editor.save())\n",
    "print(f\"First save: {editor.get_text()}\")"
   ]
  },
  {
   "cell_type": "code",
   "execution_count": 9,
   "metadata": {},
   "outputs": [
    {
     "name": "stdout",
     "output_type": "stream",
     "text": [
      "Second save: The quick brown fox \n"
     ]
    }
   ],
   "source": [
    "editor.set_text(\"brown fox \")\n",
    "vc.push(editor.save())\n",
    "print(f\"Second save: {editor.get_text()}\")"
   ]
  },
  {
   "cell_type": "code",
   "execution_count": 10,
   "metadata": {},
   "outputs": [
    {
     "name": "stdout",
     "output_type": "stream",
     "text": [
      "Before undoing: The quick brown fox whoops i messed up\n",
      "After undoing: The quick brown fox \n"
     ]
    }
   ],
   "source": [
    "editor.set_text(\"whoops i messed up\")\n",
    "\n",
    "print(f\"Before undoing: {editor.get_text()}\")\n",
    "editor.undo(vc.rollback())\n",
    "print(f\"After undoing: {editor.get_text()}\")"
   ]
  }
 ],
 "metadata": {
  "kernelspec": {
   "display_name": "Python 3",
   "language": "python",
   "name": "python3"
  },
  "language_info": {
   "codemirror_mode": {
    "name": "ipython",
    "version": 3
   },
   "file_extension": ".py",
   "mimetype": "text/x-python",
   "name": "python",
   "nbconvert_exporter": "python",
   "pygments_lexer": "ipython3",
   "version": "3.9.13"
  },
  "orig_nbformat": 4
 },
 "nbformat": 4,
 "nbformat_minor": 2
}

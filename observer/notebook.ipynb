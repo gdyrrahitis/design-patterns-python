{
 "cells": [
  {
   "cell_type": "code",
   "execution_count": 1,
   "metadata": {},
   "outputs": [],
   "source": [
    "from pattern import RPiNodesUpdaterWorkflow, SlackNotificationHandler, EmailNotificationHandler\n"
   ]
  },
  {
   "cell_type": "code",
   "execution_count": 2,
   "metadata": {},
   "outputs": [],
   "source": [
    "workflow = RPiNodesUpdaterWorkflow()\n",
    "slack_observer = SlackNotificationHandler()\n",
    "email_observer = EmailNotificationHandler()"
   ]
  },
  {
   "cell_type": "code",
   "execution_count": 3,
   "metadata": {},
   "outputs": [
    {
     "name": "stdout",
     "output_type": "stream",
     "text": [
      "Adding observer SlackNotificationHandler to subject RPiNodesUpdaterWorkflow\n",
      "Adding observer EmailNotificationHandler to subject RPiNodesUpdaterWorkflow\n"
     ]
    }
   ],
   "source": [
    "# Attaching observers to subject\n",
    "workflow.attach(slack_observer)\n",
    "workflow.attach(email_observer)"
   ]
  },
  {
   "cell_type": "code",
   "execution_count": 4,
   "metadata": {},
   "outputs": [
    {
     "name": "stdout",
     "output_type": "stream",
     "text": [
      "{'workflow_name': 'RPiNodesUpdaterWorkflow', 'workflow_status': 'not_started', 'current_step': None}\n"
     ]
    }
   ],
   "source": [
    "# Initial workflow status\n",
    "status = workflow.get_workflow_status()\n",
    "print(status)"
   ]
  },
  {
   "cell_type": "code",
   "execution_count": 5,
   "metadata": {},
   "outputs": [
    {
     "name": "stdout",
     "output_type": "stream",
     "text": [
      "Workflow started\n",
      "\n",
      "\n",
      "***** Slack Notification *****\n",
      "\n",
      "Sending DM to slack channel #my_awesome_team_channel on workflow RPiNodesUpdaterWorkflow\n",
      "{'workflow_name': 'RPiNodesUpdaterWorkflow', 'workflow_status': 'running', 'current_step': {'name': 'retrieve_state_of_nodes', 'status': 'not_started'}}\n",
      "\n",
      "\n",
      "\n",
      "***** Email Notification *****\n",
      "\n",
      "Sending email to my_awesome_company@company.com on workflow RPiNodesUpdaterWorkflow\n",
      "{'workflow_name': 'RPiNodesUpdaterWorkflow', 'workflow_status': 'running', 'current_step': {'name': 'retrieve_state_of_nodes', 'status': 'not_started'}}\n",
      "\n"
     ]
    }
   ],
   "source": [
    "workflow.start()"
   ]
  },
  {
   "cell_type": "code",
   "execution_count": 6,
   "metadata": {},
   "outputs": [
    {
     "name": "stdout",
     "output_type": "stream",
     "text": [
      "Running retrieve_state_of_nodes...\n",
      "Completed! Successful execution of retrieve_state_of_nodes\n",
      "\n",
      "\n",
      "***** Slack Notification *****\n",
      "\n",
      "Sending DM to slack channel #my_awesome_team_channel on workflow RPiNodesUpdaterWorkflow\n",
      "{'workflow_name': 'RPiNodesUpdaterWorkflow', 'workflow_status': 'running', 'current_step': {'name': 'retrieve_state_of_nodes', 'status': 'completed'}}\n",
      "\n",
      "\n",
      "\n",
      "***** Email Notification *****\n",
      "\n",
      "Sending email to my_awesome_company@company.com on workflow RPiNodesUpdaterWorkflow\n",
      "{'workflow_name': 'RPiNodesUpdaterWorkflow', 'workflow_status': 'running', 'current_step': {'name': 'retrieve_state_of_nodes', 'status': 'completed'}}\n",
      "\n",
      "Next step to run: check_if_node_needs_update\n"
     ]
    }
   ],
   "source": [
    "workflow.run_step()"
   ]
  },
  {
   "cell_type": "code",
   "execution_count": 7,
   "metadata": {},
   "outputs": [
    {
     "name": "stdout",
     "output_type": "stream",
     "text": [
      "Running check_if_node_needs_update...\n",
      "Completed! Successful execution of check_if_node_needs_update\n",
      "\n",
      "\n",
      "***** Slack Notification *****\n",
      "\n",
      "Sending DM to slack channel #my_awesome_team_channel on workflow RPiNodesUpdaterWorkflow\n",
      "{'workflow_name': 'RPiNodesUpdaterWorkflow', 'workflow_status': 'running', 'current_step': {'name': 'check_if_node_needs_update', 'status': 'completed'}}\n",
      "\n",
      "\n",
      "\n",
      "***** Email Notification *****\n",
      "\n",
      "Sending email to my_awesome_company@company.com on workflow RPiNodesUpdaterWorkflow\n",
      "{'workflow_name': 'RPiNodesUpdaterWorkflow', 'workflow_status': 'running', 'current_step': {'name': 'check_if_node_needs_update', 'status': 'completed'}}\n",
      "\n",
      "Next step to run: update_nodes\n"
     ]
    }
   ],
   "source": [
    "workflow.run_step()"
   ]
  },
  {
   "cell_type": "code",
   "execution_count": 8,
   "metadata": {},
   "outputs": [
    {
     "name": "stdout",
     "output_type": "stream",
     "text": [
      "Running update_nodes...\n",
      "Completed! Successful execution of update_nodes\n",
      "\n",
      "\n",
      "***** Slack Notification *****\n",
      "\n",
      "Sending DM to slack channel #my_awesome_team_channel on workflow RPiNodesUpdaterWorkflow\n",
      "{'workflow_name': 'RPiNodesUpdaterWorkflow', 'workflow_status': 'running', 'current_step': {'name': 'update_nodes', 'status': 'completed'}}\n",
      "\n",
      "\n",
      "\n",
      "***** Email Notification *****\n",
      "\n",
      "Sending email to my_awesome_company@company.com on workflow RPiNodesUpdaterWorkflow\n",
      "{'workflow_name': 'RPiNodesUpdaterWorkflow', 'workflow_status': 'running', 'current_step': {'name': 'update_nodes', 'status': 'completed'}}\n",
      "\n",
      "Next step to run: reboot_nodes\n"
     ]
    }
   ],
   "source": [
    "workflow.run_step()"
   ]
  },
  {
   "cell_type": "code",
   "execution_count": 9,
   "metadata": {},
   "outputs": [
    {
     "name": "stdout",
     "output_type": "stream",
     "text": [
      "Running reboot_nodes...\n",
      "Completed! Successful execution of reboot_nodes\n",
      "\n",
      "\n",
      "***** Slack Notification *****\n",
      "\n",
      "Sending DM to slack channel #my_awesome_team_channel on workflow RPiNodesUpdaterWorkflow\n",
      "{'workflow_name': 'RPiNodesUpdaterWorkflow', 'workflow_status': 'running', 'current_step': {'name': 'reboot_nodes', 'status': 'completed'}}\n",
      "\n",
      "\n",
      "\n",
      "***** Email Notification *****\n",
      "\n",
      "Sending email to my_awesome_company@company.com on workflow RPiNodesUpdaterWorkflow\n",
      "{'workflow_name': 'RPiNodesUpdaterWorkflow', 'workflow_status': 'running', 'current_step': {'name': 'reboot_nodes', 'status': 'completed'}}\n",
      "\n",
      "Workflow completed all its steps!\n",
      "\n",
      "\n",
      "***** Slack Notification *****\n",
      "\n",
      "Sending DM to slack channel #my_awesome_team_channel on workflow RPiNodesUpdaterWorkflow\n",
      "{'workflow_name': 'RPiNodesUpdaterWorkflow', 'workflow_status': 'completed', 'current_step': None}\n",
      "\n",
      "\n",
      "\n",
      "***** Email Notification *****\n",
      "\n",
      "Sending email to my_awesome_company@company.com on workflow RPiNodesUpdaterWorkflow\n",
      "{'workflow_name': 'RPiNodesUpdaterWorkflow', 'workflow_status': 'completed', 'current_step': None}\n",
      "\n"
     ]
    }
   ],
   "source": [
    "workflow.run_step()"
   ]
  },
  {
   "cell_type": "code",
   "execution_count": 10,
   "metadata": {},
   "outputs": [],
   "source": [
    "# Destroying workflow since it is done\n",
    "del workflow"
   ]
  }
 ],
 "metadata": {
  "kernelspec": {
   "display_name": "Python 3",
   "language": "python",
   "name": "python3"
  },
  "language_info": {
   "codemirror_mode": {
    "name": "ipython",
    "version": 3
   },
   "file_extension": ".py",
   "mimetype": "text/x-python",
   "name": "python",
   "nbconvert_exporter": "python",
   "pygments_lexer": "ipython3",
   "version": "3.9.13"
  },
  "orig_nbformat": 4
 },
 "nbformat": 4,
 "nbformat_minor": 2
}

{
 "cells": [
  {
   "cell_type": "code",
   "execution_count": 3,
   "metadata": {},
   "outputs": [
    {
     "name": "stdout",
     "output_type": "stream",
     "text": [
      "is db and db2 same? True\n",
      "saving to database\n"
     ]
    }
   ],
   "source": [
    "# Classic singleton example\n",
    "from pattern import Database\n",
    "\n",
    "db = Database()\n",
    "db2 = Database()\n",
    "print(f\"is db and db2 same? {db is db2}\")\n",
    "\n",
    "# calls save method on singleton\n",
    "db.save()"
   ]
  },
  {
   "cell_type": "code",
   "execution_count": 4,
   "metadata": {},
   "outputs": [
    {
     "name": "stdout",
     "output_type": "stream",
     "text": [
      "Listing contents in Windows directory C:\\Users\\admin\n",
      "Listing contents in MacOS directory /home/Users/admin\n",
      "Is Windows Explorer and Finder same instances? False\n"
     ]
    }
   ],
   "source": [
    "from pattern import FileSystem, WindowsExplorer, Finder\n",
    "\n",
    "windows_explorer = WindowsExplorer()\n",
    "windows_explorer.list_directory_contents(directory=\"C:\\\\Users\\\\admin\")\n",
    "\n",
    "finder = Finder()\n",
    "finder.list_directory_contents(directory=\"/home/Users/admin\")\n",
    "\n",
    "# these are not the same instances\n",
    "print(f\"Is Windows Explorer and Finder same instances? {windows_explorer is finder}\")"
   ]
  }
 ],
 "metadata": {
  "kernelspec": {
   "display_name": "Python 3",
   "language": "python",
   "name": "python3"
  },
  "language_info": {
   "codemirror_mode": {
    "name": "ipython",
    "version": 3
   },
   "file_extension": ".py",
   "mimetype": "text/x-python",
   "name": "python",
   "nbconvert_exporter": "python",
   "pygments_lexer": "ipython3",
   "version": "3.9.13"
  },
  "orig_nbformat": 4
 },
 "nbformat": 4,
 "nbformat_minor": 2
}

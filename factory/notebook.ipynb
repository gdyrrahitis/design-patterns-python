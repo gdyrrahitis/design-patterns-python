{
 "cells": [
  {
   "cell_type": "code",
   "execution_count": 13,
   "metadata": {},
   "outputs": [],
   "source": [
    "from pattern import StandardOrderCreator, PreOrderCreator\n",
    "import uuid"
   ]
  },
  {
   "cell_type": "code",
   "execution_count": 14,
   "metadata": {},
   "outputs": [
    {
     "name": "stdout",
     "output_type": "stream",
     "text": [
      "Notifying customer John Doe about release date...\n",
      "Status for pre-order 2a9b93eb-4cfd-4a6b-99a5-5f8b48b79b08 is 'preordered' - Items: ['Resident Evil 4 Remake - PC']\n"
     ]
    }
   ],
   "source": [
    "# I want to make a preorder for an item\n",
    "creator = PreOrderCreator()\n",
    "order = creator.create_order(uuid.uuid4(), \"John Doe\", [\"Resident Evil 4 Remake - PC\"])\n",
    "order.process_order()\n",
    "print(f\"Status for pre-order {order.id} is '{order.status}' - Items: {order.items}\")"
   ]
  },
  {
   "cell_type": "code",
   "execution_count": 15,
   "metadata": {},
   "outputs": [
    {
     "name": "stdout",
     "output_type": "stream",
     "text": [
      "Updating inventory...\n",
      "Notifying customer Jane Doe...\n",
      "Status for order 3f916672-b9ee-4de3-83e0-6d56b25b1d86 is 'processed' - Items: ['Prusa mini+ 3D printer']\n",
      "\n",
      "***\n",
      "\n",
      "Cancelling order 3f916672-b9ee-4de3-83e0-6d56b25b1d86\n",
      "Restocking inventory...\n",
      "Refunding customer Jane Doe...\n",
      "Status for order 3f916672-b9ee-4de3-83e0-6d56b25b1d86 is 'cancelled'\n"
     ]
    }
   ],
   "source": [
    "# I want to make a standard order for an item\n",
    "creator = StandardOrderCreator()\n",
    "order = creator.create_order(uuid.uuid4(), \"Jane Doe\", [\"Prusa mini+ 3D printer\"])\n",
    "order.process_order()\n",
    "print(f\"Status for order {order.id} is '{order.status}' - Items: {order.items}\")\n",
    "\n",
    "print(\"\\n***\\n\")\n",
    "\n",
    "# I changed my mind\n",
    "print(f\"Cancelling order {order.id}\")\n",
    "order.cancel_order()\n",
    "print(f\"Status for order {order.id} is '{order.status}'\")"
   ]
  }
 ],
 "metadata": {
  "kernelspec": {
   "display_name": "Python 3",
   "language": "python",
   "name": "python3"
  },
  "language_info": {
   "codemirror_mode": {
    "name": "ipython",
    "version": 3
   },
   "file_extension": ".py",
   "mimetype": "text/x-python",
   "name": "python",
   "nbconvert_exporter": "python",
   "pygments_lexer": "ipython3",
   "version": "3.9.13"
  },
  "orig_nbformat": 4
 },
 "nbformat": 4,
 "nbformat_minor": 2
}

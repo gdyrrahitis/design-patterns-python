{
 "cells": [
  {
   "cell_type": "code",
   "execution_count": 7,
   "metadata": {},
   "outputs": [],
   "source": [
    "from pattern import Incident, Emergency, Labs, Surgery, Hospital"
   ]
  },
  {
   "cell_type": "code",
   "execution_count": 8,
   "metadata": {},
   "outputs": [],
   "source": [
    "hospital = Hospital()\n",
    "emergency = Emergency()\n",
    "labs = Labs()\n",
    "surgery = Surgery()\n",
    "\n",
    "# creating the clinical departments graph\n",
    "emergency.set_adjacent(labs)\n",
    "labs.set_adjacent(surgery)\n",
    "\n",
    "\n",
    "hospital.set_department_graph(emergency)"
   ]
  },
  {
   "cell_type": "code",
   "execution_count": 9,
   "metadata": {},
   "outputs": [
    {
     "name": "stdout",
     "output_type": "stream",
     "text": [
      "Broken ankle\n",
      "Handling emergency incident - notifying E&A doctor\n"
     ]
    }
   ],
   "source": [
    "broken_ankle = Incident(type=\"emergency\", info=\"Broken ankle\")\n",
    "# This should be handled by E&A\n",
    "hospital.handle(broken_ankle)"
   ]
  },
  {
   "cell_type": "code",
   "execution_count": 10,
   "metadata": {},
   "outputs": [
    {
     "name": "stdout",
     "output_type": "stream",
     "text": [
      "Heart valve repair or replacement\n",
      "Handling surgery - notifying surgeon\n"
     ]
    }
   ],
   "source": [
    "heart_surgery = Incident(type=\"surgery\", info=\"Heart valve repair or replacement\")\n",
    "# This should be handled by surgery\n",
    "hospital.handle(heart_surgery)"
   ]
  },
  {
   "cell_type": "code",
   "execution_count": 11,
   "metadata": {},
   "outputs": [
    {
     "name": "stdout",
     "output_type": "stream",
     "text": [
      "Blood count\n",
      "Handling lab specimen - notifying laboratory personnel\n"
     ]
    }
   ],
   "source": [
    "blood_tests = Incident(type=\"labs\", info=\"Blood count\")\n",
    "# This should be handled by labs\n",
    "hospital.handle(blood_tests)"
   ]
  },
  {
   "cell_type": "code",
   "execution_count": 12,
   "metadata": {},
   "outputs": [
    {
     "name": "stdout",
     "output_type": "stream",
     "text": [
      "Cannot handle incident - refer to other hospital\n"
     ]
    }
   ],
   "source": [
    "mole_check = Incident(type=\"dermatology\", info=\"Mole check\")\n",
    "# No clinical department to handle this, referring to other hospital\n",
    "hospital.handle(mole_check)"
   ]
  }
 ],
 "metadata": {
  "kernelspec": {
   "display_name": "Python 3",
   "language": "python",
   "name": "python3"
  },
  "language_info": {
   "codemirror_mode": {
    "name": "ipython",
    "version": 3
   },
   "file_extension": ".py",
   "mimetype": "text/x-python",
   "name": "python",
   "nbconvert_exporter": "python",
   "pygments_lexer": "ipython3",
   "version": "3.9.13"
  },
  "orig_nbformat": 4
 },
 "nbformat": 4,
 "nbformat_minor": 2
}

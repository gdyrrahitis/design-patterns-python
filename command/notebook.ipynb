{
 "cells": [
  {
   "cell_type": "code",
   "execution_count": 1,
   "metadata": {},
   "outputs": [],
   "source": [
    "from pattern import ProductHandler, UpdateStock, RateProduct, Repository\n",
    "\n",
    "# the invoker\n",
    "handler = ProductHandler()\n",
    "\n",
    "# the receiver\n",
    "repository = Repository()"
   ]
  },
  {
   "cell_type": "code",
   "execution_count": 2,
   "metadata": {},
   "outputs": [
    {
     "name": "stdout",
     "output_type": "stream",
     "text": [
      "Updating stock of product with id 'ab12' to 10\n"
     ]
    }
   ],
   "source": [
    "# issue command to update stock of a product\n",
    "update_stock_command = UpdateStock(repository=repository, id=\"ab12\", stock=10)\n",
    "handler.handle(update_stock_command)"
   ]
  },
  {
   "cell_type": "code",
   "execution_count": 3,
   "metadata": {},
   "outputs": [
    {
     "name": "stdout",
     "output_type": "stream",
     "text": [
      "Persisting rating of 4.5 for product with id 'ab12'\n"
     ]
    }
   ],
   "source": [
    "# issue command to persist product rating\n",
    "rate_product_command = RateProduct(repository=repository, id=\"ab12\", rating=4.5)\n",
    "handler.handle(rate_product_command)"
   ]
  }
 ],
 "metadata": {
  "kernelspec": {
   "display_name": "Python 3",
   "language": "python",
   "name": "python3"
  },
  "language_info": {
   "codemirror_mode": {
    "name": "ipython",
    "version": 3
   },
   "file_extension": ".py",
   "mimetype": "text/x-python",
   "name": "python",
   "nbconvert_exporter": "python",
   "pygments_lexer": "ipython3",
   "version": "3.9.13"
  },
  "orig_nbformat": 4
 },
 "nbformat": 4,
 "nbformat_minor": 2
}

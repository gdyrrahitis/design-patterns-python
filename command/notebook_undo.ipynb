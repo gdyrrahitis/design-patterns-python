{
 "cells": [
  {
   "cell_type": "code",
   "execution_count": 1,
   "metadata": {},
   "outputs": [],
   "source": [
    "from undo import CalculatorApplication, AddCommand, SubtractCommand, Calculator\n",
    "\n",
    "calculator = Calculator()\n",
    "application = CalculatorApplication(calculator)"
   ]
  },
  {
   "cell_type": "code",
   "execution_count": 2,
   "metadata": {},
   "outputs": [
    {
     "name": "stdout",
     "output_type": "stream",
     "text": [
      "Adding 5, result is: 5\n"
     ]
    }
   ],
   "source": [
    "add = AddCommand(adder=5)\n",
    "application.run_calculate_command(add)\n",
    "# Should be 5\n",
    "print(f\"Adding 5, result is: {application.get_current_value()}\")"
   ]
  },
  {
   "cell_type": "code",
   "execution_count": 3,
   "metadata": {},
   "outputs": [
    {
     "name": "stdout",
     "output_type": "stream",
     "text": [
      "Adding 40, result is: 45\n"
     ]
    }
   ],
   "source": [
    "add = AddCommand(adder=40)\n",
    "application.run_calculate_command(add)\n",
    "# Should be 45\n",
    "print(f\"Adding 40, result is: {application.get_current_value()}\")"
   ]
  },
  {
   "cell_type": "code",
   "execution_count": 4,
   "metadata": {},
   "outputs": [
    {
     "name": "stdout",
     "output_type": "stream",
     "text": [
      "Subtracting 20, result is: 25\n"
     ]
    }
   ],
   "source": [
    "subtract = SubtractCommand(subtractor=20)\n",
    "application.run_calculate_command(subtract)\n",
    "# Should be 25\n",
    "print(f\"Subtracting 20, result is: {application.get_current_value()}\")"
   ]
  },
  {
   "cell_type": "code",
   "execution_count": 5,
   "metadata": {},
   "outputs": [
    {
     "name": "stdout",
     "output_type": "stream",
     "text": [
      "Undoing once, result is: 45\n"
     ]
    }
   ],
   "source": [
    "application.rollback_calculcate_command()\n",
    "# Should be 45\n",
    "print(f\"Undoing once, result is: {application.get_current_value()}\")"
   ]
  },
  {
   "cell_type": "code",
   "execution_count": 6,
   "metadata": {},
   "outputs": [
    {
     "name": "stdout",
     "output_type": "stream",
     "text": [
      "Undoing second time, result is: 5\n"
     ]
    }
   ],
   "source": [
    "application.rollback_calculcate_command()\n",
    "# Should be 5\n",
    "print(f\"Undoing second time, result is: {application.get_current_value()}\")"
   ]
  }
 ],
 "metadata": {
  "kernelspec": {
   "display_name": "Python 3",
   "language": "python",
   "name": "python3"
  },
  "language_info": {
   "codemirror_mode": {
    "name": "ipython",
    "version": 3
   },
   "file_extension": ".py",
   "mimetype": "text/x-python",
   "name": "python",
   "nbconvert_exporter": "python",
   "pygments_lexer": "ipython3",
   "version": "3.9.13"
  },
  "orig_nbformat": 4
 },
 "nbformat": 4,
 "nbformat_minor": 2
}

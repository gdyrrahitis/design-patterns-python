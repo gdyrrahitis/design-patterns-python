{
 "cells": [
  {
   "cell_type": "code",
   "execution_count": 1,
   "metadata": {},
   "outputs": [],
   "source": [
    "from pattern import AudioPlayer"
   ]
  },
  {
   "cell_type": "code",
   "execution_count": 2,
   "metadata": {},
   "outputs": [
    {
     "name": "stdout",
     "output_type": "stream",
     "text": [
      "Playing MP3 file: song.mp3\n",
      "Playing VLC file: movie.vlc\n",
      "Playing MP4 file: video.mp4\n",
      "Invalid media type: avi\n"
     ]
    }
   ],
   "source": [
    "audio_player = AudioPlayer()\n",
    "audio_player.play(\"mp3\", \"song.mp3\")\n",
    "audio_player.play(\"vlc\", \"movie.vlc\")\n",
    "audio_player.play(\"mp4\", \"video.mp4\")\n",
    "audio_player.play(\"avi\", \"video.avi\")"
   ]
  }
 ],
 "metadata": {
  "kernelspec": {
   "display_name": "Python 3",
   "language": "python",
   "name": "python3"
  },
  "language_info": {
   "codemirror_mode": {
    "name": "ipython",
    "version": 3
   },
   "file_extension": ".py",
   "mimetype": "text/x-python",
   "name": "python",
   "nbconvert_exporter": "python",
   "pygments_lexer": "ipython3",
   "version": "3.9.13"
  },
  "orig_nbformat": 4
 },
 "nbformat": 4,
 "nbformat_minor": 2
}

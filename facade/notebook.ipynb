{
 "cells": [
  {
   "cell_type": "code",
   "execution_count": 1,
   "metadata": {},
   "outputs": [],
   "source": [
    "from pattern import ConfigManager"
   ]
  },
  {
   "cell_type": "code",
   "execution_count": 2,
   "metadata": {},
   "outputs": [
    {
     "name": "stdout",
     "output_type": "stream",
     "text": [
      "Loading configuration attributes for device Router-1\n",
      "Loaded config for device\n",
      "{'interfaces': [{'name': 'GigabitEthernet0/0', 'description': 'Connection to LAN', 'ip_address': '192.168.1.1', 'subnet_mask': '255.255.255.0', 'status': 'up'}, {'name': 'GigabitEthernet0/1', 'description': 'Connection to Internet', 'ip_address': '203.0.113.1', 'subnet_mask': '255.255.255.0', 'status': 'up'}], 'vlan': [{'id': 10, 'name': 'LAN', 'ports': ['GigabitEthernet0/0']}, {'id': 20, 'name': 'DMZ', 'ports': ['GigabitEthernet0/1']}], 'routing': [{'network': '0.0.0.0', 'subnet_mask': '0.0.0.0', 'next_hop': '203.0.113.254'}, {'network': '192.168.2.0', 'subnet_mask': '255.255.255.0', 'next_hop': '192.168.1.2'}]}\n",
      "\n",
      "\n",
      "Updated Configuration:\n",
      "{'interfaces': [{'name': 'GigabitEthernet0/0', 'description': 'Connection to LAN', 'ip_address': '192.168.1.1', 'subnet_mask': '255.255.255.0', 'status': 'up'}, {'name': 'GigabitEthernet0/1', 'description': 'Connection to Internet', 'ip_address': '203.0.113.1', 'subnet_mask': '255.255.255.0', 'status': 'up'}, {'name': 'GigabitEthernet0/2', 'description': 'Additional Interface', 'ip_address': '192.168.3.1', 'subnet_mask': '255.255.255.0', 'status': 'up'}], 'vlan': [{'id': 10, 'name': 'LAN', 'ports': ['GigabitEthernet0/0']}, {'id': 20, 'name': 'DMZ', 'ports': ['GigabitEthernet0/1']}, {'id': 30, 'name': 'Guest', 'ports': ['GigabitEthernet0/2']}], 'routing': [{'network': '0.0.0.0', 'subnet_mask': '0.0.0.0', 'next_hop': '203.0.113.254'}, {'network': '192.168.2.0', 'subnet_mask': '255.255.255.0', 'next_hop': '192.168.1.2'}]}\n",
      "\n",
      "\n",
      "Generated Cisco Device Configuration:\n",
      "interface GigabitEthernet0/0\n",
      " description Connection to LAN\n",
      " ip address 192.168.1.1 255.255.255.0\n",
      " no shutdown\n",
      "\n",
      "vlan 10\n",
      " name LAN\n",
      "!\n",
      "interface GigabitEthernet0/0\n",
      " switchport mode access\n",
      " switchport access vlan 10\n",
      "!\n",
      "\n",
      "vlan 20\n",
      " name DMZ\n",
      "!\n",
      "interface GigabitEthernet0/1\n",
      " switchport mode access\n",
      " switchport access vlan 20\n",
      "!\n",
      "\n",
      "vlan 30\n",
      " name Guest\n",
      "!\n",
      "interface GigabitEthernet0/2\n",
      " switchport mode access\n",
      " switchport access vlan 30\n",
      "!\n",
      "\n",
      "ip route 0.0.0.0 0.0.0.0 203.0.113.254\n",
      "ip route 192.168.2.0 192.168.1.2\n",
      "\n",
      "\n",
      "\n",
      "\n",
      "Persisted configuration to local file Router-1__cisco_device_config.cfg\n",
      "Uploading device configuration from Router-1__cisco_device_config.cfg to config registry...\n",
      "Done!\n",
      "Configuration generation workflow has completed all its steps successfully\n"
     ]
    }
   ],
   "source": [
    "manager = ConfigManager()\n",
    "device = \"Router-1\"\n",
    "manager.start_config_gen_workflow(device)"
   ]
  }
 ],
 "metadata": {
  "kernelspec": {
   "display_name": "Python 3",
   "language": "python",
   "name": "python3"
  },
  "language_info": {
   "codemirror_mode": {
    "name": "ipython",
    "version": 3
   },
   "file_extension": ".py",
   "mimetype": "text/x-python",
   "name": "python",
   "nbconvert_exporter": "python",
   "pygments_lexer": "ipython3",
   "version": "3.10.9"
  },
  "orig_nbformat": 4
 },
 "nbformat": 4,
 "nbformat_minor": 2
}

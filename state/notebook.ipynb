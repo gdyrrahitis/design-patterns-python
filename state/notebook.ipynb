{
 "cells": [
  {
   "cell_type": "code",
   "execution_count": 1,
   "metadata": {},
   "outputs": [],
   "source": [
    "from pattern import TicketPurchase"
   ]
  },
  {
   "cell_type": "code",
   "execution_count": 2,
   "metadata": {},
   "outputs": [
    {
     "data": {
      "text/plain": [
       "'\\nThe ticket purchasing state machine\\n           +---------+\\n    +------>  Idle   <------+\\n    |      +---------+      |\\n    |                       |\\n    |   +-------------+     |   +--------------+\\n    +---+  Selecting  +-----+--->  Invalid    |\\n    |   |   Movie     |     |   |   Selection  |\\n    |   +-------------+     |   +--------------+\\n    |                       |\\n    |   +--------------+    |   +--------------+\\n    +---+  Selecting   +----+--->  Insufficient |\\n    |   |   Seats      |    |   |    Seats     |\\n    |   +--------------+    |   +--------------+\\n    |                       |\\n    |   +--------------+    |   +--------------+\\n    +---+   Payment    +----+--->   Completed  |\\n    |   |  Processing  |    |   |   Purchase   |\\n    |   +--------------+    |   +--------------+\\n    |                       |\\n    |   +--------------+    |\\n    +---+    Cancel    +----+\\n        |   Purchase   |\\n        +--------------+\\n'"
      ]
     },
     "execution_count": 2,
     "metadata": {},
     "output_type": "execute_result"
    }
   ],
   "source": [
    "\"\"\"\n",
    "The ticket purchasing state machine\n",
    "           +---------+\n",
    "    +------>  Idle   <------+\n",
    "    |      +---------+      |\n",
    "    |                       |\n",
    "    |   +-------------+     |   +--------------+\n",
    "    +---+  Selecting  +-----+--->  Invalid    |\n",
    "    |   |   Movie     |     |   |   Selection  |\n",
    "    |   +-------------+     |   +--------------+\n",
    "    |                       |\n",
    "    |   +--------------+    |   +--------------+\n",
    "    +---+  Selecting   +----+--->  Insufficient |\n",
    "    |   |   Seats      |    |   |    Seats     |\n",
    "    |   +--------------+    |   +--------------+\n",
    "    |                       |\n",
    "    |   +--------------+    |   +--------------+\n",
    "    +---+   Payment    +----+--->   Completed  |\n",
    "    |   |  Processing  |    |   |   Purchase   |\n",
    "    |   +--------------+    |   +--------------+\n",
    "    |                       |\n",
    "    |   +--------------+    |\n",
    "    +---+    Cancel    +----+\n",
    "        |   Purchase   |\n",
    "        +--------------+\n",
    "\"\"\""
   ]
  },
  {
   "cell_type": "code",
   "execution_count": 3,
   "metadata": {},
   "outputs": [
    {
     "name": "stdout",
     "output_type": "stream",
     "text": [
      "Please select a movie first.\n",
      "Selected movie: Avengers: Endgame.\n",
      "Selected seats: A1, A2.\n",
      "Payment processed successfully.\n",
      "Purchase already completed.\n"
     ]
    }
   ],
   "source": [
    "# Ticket purchasing state machine\n",
    "ticket_purchase = TicketPurchase()\n",
    "\n",
    "# Invalid state, will ask to select a movie first\n",
    "ticket_purchase.select_seats(\"A1, A2\")\n",
    "\n",
    "# Selected movie: Avengers: Endgame.\n",
    "ticket_purchase.select_movie(\"Avengers: Endgame\")\n",
    "\n",
    "# next is selecting seats\n",
    "ticket_purchase.select_seats(\"A1, A2\")\n",
    "\n",
    "# Then paying for the seats! My card has been charged! \n",
    "ticket_purchase.process_payment()\n",
    "\n",
    "# If I try to cancel my purchase, I can't cause\n",
    "# I have already paid!\n",
    "ticket_purchase.cancel_purchase()  "
   ]
  }
 ],
 "metadata": {
  "kernelspec": {
   "display_name": "Python 3",
   "language": "python",
   "name": "python3"
  },
  "language_info": {
   "codemirror_mode": {
    "name": "ipython",
    "version": 3
   },
   "file_extension": ".py",
   "mimetype": "text/x-python",
   "name": "python",
   "nbconvert_exporter": "python",
   "pygments_lexer": "ipython3",
   "version": "3.9.13"
  },
  "orig_nbformat": 4
 },
 "nbformat": 4,
 "nbformat_minor": 2
}

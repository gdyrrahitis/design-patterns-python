{
 "cells": [
  {
   "cell_type": "code",
   "execution_count": 7,
   "metadata": {},
   "outputs": [],
   "source": [
    "from pattern import PayrollTaxDirector, ProgressiveIncomeTax, FlatRateIncomeTax, NationalInsuranceTax\n",
    "salary = 50000"
   ]
  },
  {
   "cell_type": "code",
   "execution_count": 8,
   "metadata": {},
   "outputs": [],
   "source": [
    "progressive_income_tax = PayrollTaxDirector(ProgressiveIncomeTax())\n",
    "flat_rate_tax = PayrollTaxDirector(FlatRateIncomeTax())\n",
    "national_insurance_tax = PayrollTaxDirector(NationalInsuranceTax())"
   ]
  },
  {
   "cell_type": "code",
   "execution_count": 9,
   "metadata": {},
   "outputs": [
    {
     "name": "stdout",
     "output_type": "stream",
     "text": [
      "For salary $50000 tax deductions will be:\n",
      "\n",
      "Progressive income tax $10000.0\n",
      "Flat rate tax $12500.0\n",
      "National insurance tax $7500.0\n"
     ]
    }
   ],
   "source": [
    "print(f\"For salary ${salary} tax deductions will be:\\n\")\n",
    "print(f\"Progressive income tax ${progressive_income_tax.calculate(salary)}\")\n",
    "print(f\"Flat rate tax ${flat_rate_tax.calculate(salary)}\")\n",
    "print(f\"National insurance tax ${national_insurance_tax.calculate(salary)}\")"
   ]
  }
 ],
 "metadata": {
  "kernelspec": {
   "display_name": "Python 3",
   "language": "python",
   "name": "python3"
  },
  "language_info": {
   "codemirror_mode": {
    "name": "ipython",
    "version": 3
   },
   "file_extension": ".py",
   "mimetype": "text/x-python",
   "name": "python",
   "nbconvert_exporter": "python",
   "pygments_lexer": "ipython3",
   "version": "3.9.13"
  },
  "orig_nbformat": 4
 },
 "nbformat": 4,
 "nbformat_minor": 2
}

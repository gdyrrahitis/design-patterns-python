{
 "cells": [
  {
   "cell_type": "code",
   "execution_count": 5,
   "metadata": {},
   "outputs": [],
   "source": [
    "from pattern import OrderController, LoggingDecorator, TimingDecorator"
   ]
  },
  {
   "cell_type": "code",
   "execution_count": 6,
   "metadata": {},
   "outputs": [
    {
     "name": "stdout",
     "output_type": "stream",
     "text": [
      "Logging before request\n",
      "Time took for action 2.0122829999999965\n",
      "Logging after request. Response {'id': '123', 'items': ['keyboard', 'mouse']}\n",
      "Got back {'id': '123', 'items': ['keyboard', 'mouse']}\n"
     ]
    }
   ],
   "source": [
    "handler = LoggingDecorator(TimingDecorator(OrderController()))\n",
    "result = handler.get()\n",
    "print(f\"Got back {result}\")\n"
   ]
  },
  {
   "cell_type": "code",
   "execution_count": 7,
   "metadata": {},
   "outputs": [
    {
     "name": "stdout",
     "output_type": "stream",
     "text": [
      "Logging before request\n",
      "Time took for action 2.0059241000000014\n",
      "Logging after request. Response {'status': 'suceeded', 'id': 1234}\n"
     ]
    },
    {
     "data": {
      "text/plain": [
       "{'status': 'suceeded', 'id': 1234}"
      ]
     },
     "execution_count": 7,
     "metadata": {},
     "output_type": "execute_result"
    }
   ],
   "source": [
    "# Python supports decorators via functions.\n",
    "# in python it is simple as wrapping a function via another function, i.e. its decorator\n",
    "from pattern import logging, timing\n",
    "import time\n",
    "import random\n",
    "\n",
    "def get():\n",
    "    time.sleep(random.randrange(1, 3))\n",
    "    return {\"name\": \"John\", \"surname\": \"Doe\", \"account_id\": 1234}\n",
    "\n",
    "# that's exactly how python decorators work\n",
    "logging(timing(get()))\n",
    "\n",
    "# the nicer syntax\n",
    "@logging\n",
    "@timing\n",
    "def save():\n",
    "    time.sleep(random.randrange(1, 3))\n",
    "    return {\"status\": \"suceeded\", \"id\": 1234}\n",
    "\n",
    "save()"
   ]
  },
  {
   "cell_type": "code",
   "execution_count": 8,
   "metadata": {},
   "outputs": [
    {
     "name": "stdout",
     "output_type": "stream",
     "text": [
      "Logging before request\n",
      "Time took for action 2.0037742000000023\n",
      "Logging after request. Response {'name': 'John', 'surname': 'Doe', 'account_id': 1234}\n",
      "Profile get: {'name': 'John', 'surname': 'Doe', 'account_id': 1234}\n"
     ]
    }
   ],
   "source": [
    "# in this example I have decorated the `get` method of `ProfileController` in the Pythonic way\n",
    "from pattern import ProfileController\n",
    "\n",
    "controller = ProfileController()\n",
    "response = controller.get()\n",
    "print(f\"Profile get: {response}\")"
   ]
  }
 ],
 "metadata": {
  "kernelspec": {
   "display_name": "Python 3",
   "language": "python",
   "name": "python3"
  },
  "language_info": {
   "codemirror_mode": {
    "name": "ipython",
    "version": 3
   },
   "file_extension": ".py",
   "mimetype": "text/x-python",
   "name": "python",
   "nbconvert_exporter": "python",
   "pygments_lexer": "ipython3",
   "version": "3.9.13"
  },
  "orig_nbformat": 4
 },
 "nbformat": 4,
 "nbformat_minor": 2
}

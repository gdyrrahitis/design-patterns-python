{
 "cells": [
  {
   "cell_type": "code",
   "execution_count": 5,
   "metadata": {},
   "outputs": [],
   "source": [
    "from pattern import RequestDirector, Ping, Health, PingHandler, HealthHandler"
   ]
  },
  {
   "cell_type": "code",
   "execution_count": 6,
   "metadata": {},
   "outputs": [],
   "source": [
    "# Create mediator and register handlers to mediate requests to\n",
    "mediator = RequestDirector()\n",
    "mediator.register(Ping, PingHandler)\n",
    "mediator.register(Health, HealthHandler)"
   ]
  },
  {
   "cell_type": "code",
   "execution_count": 7,
   "metadata": {},
   "outputs": [
    {
     "name": "stdout",
     "output_type": "stream",
     "text": [
      "Response for Ping request: Pong\n"
     ]
    }
   ],
   "source": [
    "ping_request = Ping()\n",
    "response = mediator.send(ping_request)\n",
    "print(f\"Response for Ping request: {response}\")"
   ]
  },
  {
   "cell_type": "code",
   "execution_count": 8,
   "metadata": {},
   "outputs": [
    {
     "name": "stdout",
     "output_type": "stream",
     "text": [
      "Response for Health request: Healthy\n"
     ]
    }
   ],
   "source": [
    "health_request = Health()\n",
    "response = mediator.send(health_request)\n",
    "print(f\"Response for Health request: {response}\")"
   ]
  }
 ],
 "metadata": {
  "kernelspec": {
   "display_name": "Python 3",
   "language": "python",
   "name": "python3"
  },
  "language_info": {
   "codemirror_mode": {
    "name": "ipython",
    "version": 3
   },
   "file_extension": ".py",
   "mimetype": "text/x-python",
   "name": "python",
   "nbconvert_exporter": "python",
   "pygments_lexer": "ipython3",
   "version": "3.9.13"
  },
  "orig_nbformat": 4
 },
 "nbformat": 4,
 "nbformat_minor": 2
}

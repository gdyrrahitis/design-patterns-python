{
 "cells": [
  {
   "cell_type": "code",
   "execution_count": 1,
   "metadata": {},
   "outputs": [],
   "source": [
    "from pattern import GitFileUpdater, S3FileUpdater"
   ]
  },
  {
   "cell_type": "code",
   "execution_count": 2,
   "metadata": {},
   "outputs": [
    {
     "name": "stdout",
     "output_type": "stream",
     "text": [
      "Cloning git repository locally\n",
      "Updating git files locally\n",
      "Validating changes to repository files\n",
      "git commit to local\n",
      "git push to remote\n"
     ]
    }
   ],
   "source": [
    "git_file_updater = GitFileUpdater()\n",
    "\n",
    "# executes the algorithm to update git files sequentially\n",
    "git_file_updater.run()"
   ]
  },
  {
   "cell_type": "code",
   "execution_count": 3,
   "metadata": {},
   "outputs": [
    {
     "name": "stdout",
     "output_type": "stream",
     "text": [
      "Downloading s3 objects\n",
      "Updating s3 objects\n",
      "Validate changes to s3 objects\n",
      "Uploading objects to s3\n"
     ]
    }
   ],
   "source": [
    "s3_file_updater = S3FileUpdater()\n",
    "\n",
    "# executes the algorithm to update s3 files sequentially\n",
    "s3_file_updater.run()"
   ]
  }
 ],
 "metadata": {
  "kernelspec": {
   "display_name": "Python 3",
   "language": "python",
   "name": "python3"
  },
  "language_info": {
   "codemirror_mode": {
    "name": "ipython",
    "version": 3
   },
   "file_extension": ".py",
   "mimetype": "text/x-python",
   "name": "python",
   "nbconvert_exporter": "python",
   "pygments_lexer": "ipython3",
   "version": "3.9.13"
  },
  "orig_nbformat": 4
 },
 "nbformat": 4,
 "nbformat_minor": 2
}

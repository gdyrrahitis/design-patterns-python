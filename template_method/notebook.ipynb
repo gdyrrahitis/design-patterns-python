{
 "cells": [
  {
   "cell_type": "code",
   "execution_count": 4,
   "metadata": {},
   "outputs": [],
   "source": [
    "from pattern import GitFileUpdater, S3FileUpdater"
   ]
  },
  {
   "cell_type": "code",
   "execution_count": 5,
   "metadata": {},
   "outputs": [
    {
     "name": "stdout",
     "output_type": "stream",
     "text": [
      "Cloning git repository locally\n",
      "Updating git files locally\n",
      "Validating changes to repository files\n",
      "git commit to local\n",
      "git push to remote\n"
     ]
    }
   ],
   "source": [
    "git_file_updater = GitFileUpdater()\n",
    "\n",
    "# executes the algorithm to update git files sequentially\n",
    "git_file_updater.run()"
   ]
  },
  {
   "cell_type": "code",
   "execution_count": 6,
   "metadata": {},
   "outputs": [
    {
     "ename": "TypeError",
     "evalue": "Can't instantiate abstract class S3FileUpdater with abstract method save_to_disk",
     "output_type": "error",
     "traceback": [
      "\u001b[1;31m---------------------------------------------------------------------------\u001b[0m",
      "\u001b[1;31mTypeError\u001b[0m                                 Traceback (most recent call last)",
      "Cell \u001b[1;32mIn[6], line 1\u001b[0m\n\u001b[1;32m----> 1\u001b[0m s3_file_updater \u001b[39m=\u001b[39m S3FileUpdater()\n\u001b[0;32m      3\u001b[0m \u001b[39m# executes the algorithm to update s3 files sequentially\u001b[39;00m\n\u001b[0;32m      4\u001b[0m s3_file_updater\u001b[39m.\u001b[39mrun()\n",
      "\u001b[1;31mTypeError\u001b[0m: Can't instantiate abstract class S3FileUpdater with abstract method save_to_disk"
     ]
    }
   ],
   "source": [
    "s3_file_updater = S3FileUpdater()\n",
    "\n",
    "# executes the algorithm to update s3 files sequentially\n",
    "s3_file_updater.run()"
   ]
  }
 ],
 "metadata": {
  "kernelspec": {
   "display_name": "Python 3",
   "language": "python",
   "name": "python3"
  },
  "language_info": {
   "codemirror_mode": {
    "name": "ipython",
    "version": 3
   },
   "file_extension": ".py",
   "mimetype": "text/x-python",
   "name": "python",
   "nbconvert_exporter": "python",
   "pygments_lexer": "ipython3",
   "version": "3.9.13"
  },
  "orig_nbformat": 4
 },
 "nbformat": 4,
 "nbformat_minor": 2
}
